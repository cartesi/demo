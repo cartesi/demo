{
 "cells": [
  {
   "cell_type": "code",
   "execution_count": 23,
   "metadata": {},
   "outputs": [
    {
     "name": "stdout",
     "output_type": "stream",
     "text": [
      "Dumping final configuration to file:\n",
      "concerns:\n",
      "- abi: /opt/cartesi/blockchain/abis/PartitionInstantiator.json\n",
      "  contract_address: '0x5831eD055B436464ce915c06E2146d7f0bc055DA'\n",
      "  user_address: '0x2AD38F50f38Abc5CbcF175e1962293EEcc7936De'\n",
      "- abi: /opt/cartesi/blockchain/abis/MMInstantiator.json\n",
      "  contract_address: '0x9758599Dd9E507322F55784811A6A72bDd2443d9'\n",
      "  user_address: '0x2AD38F50f38Abc5CbcF175e1962293EEcc7936De'\n",
      "- abi: /opt/cartesi/blockchain/abis/VGInstantiator.json\n",
      "  contract_address: '0x63664106a027195f368B8ac0e20C460f95e570C4'\n",
      "  user_address: '0x2AD38F50f38Abc5CbcF175e1962293EEcc7936De'\n",
      "confirmations: 0\n",
      "emulator_port: 50052\n",
      "main_concern:\n",
      "  abi: /opt/cartesi/blockchain/abis/ComputeInstantiator.json\n",
      "  contract_address: '0xbE35F0971d377C0CC290288539434E6D4C13cc7d'\n",
      "  user_address: '0x2AD38F50f38Abc5CbcF175e1962293EEcc7936De'\n",
      "max_delay: 500\n",
      "query_port: 3002\n",
      "testing: true\n",
      "url: http://127.0.0.1:8545\n",
      "warn_delay: 30\n",
      "\n"
     ]
    }
   ],
   "source": [
    "import sys\n",
    "import yaml\n",
    "\n",
    "BASE_CONFIG_FILE = \"base_dispatcher_config.yaml\"\n",
    "CONTRACTS_DEPLOYMENT_INFO_FILE = \"deployed_dispute_contracts.yaml\"\n",
    "OUTPUT_CONFIG_FILE = \"dispatcher_config.yaml\"\n",
    "BASE_ABI_PATH = \"/opt/cartesi/blockchain/abis/\"\n",
    "\n",
    "def replace_deployed_info_in_base_config(conf_yaml, dep_info_yaml):\n",
    "    conf_yaml['concerns']=[]\n",
    "    \n",
    "    for concern in dep_info_yaml['concerns']:\n",
    "        replaced_concern = {}\n",
    "        \n",
    "        replaced_concern['user_address'] = concern['user_address']\n",
    "        replaced_concern['contract_address'] = concern['contract_address']\n",
    "        \n",
    "        abi_name = concern['abi'].split('/')[-1]\n",
    "        replaced_concern['abi'] = BASE_ABI_PATH + abi_name\n",
    "        \n",
    "        #Checking if it is the main concern or not\n",
    "        if abi_name == \"ComputeInstantiator.json\":\n",
    "            conf_yaml['main_concern'] = replaced_concern\n",
    "        else:\n",
    "            conf_yaml['concerns'].append(replaced_concern)\n",
    "    return conf_yaml\n",
    "\n",
    "def load_contracts_deployment_info():\n",
    "    with open(CONTRACTS_DEPLOYMENT_INFO_FILE, 'r') as contracts_deployment_info_file:\n",
    "        try:\n",
    "            return yaml.safe_load(contracts_deployment_info_file)\n",
    "        except yaml.YAMLError as exc:\n",
    "            print(\"Error trying to load contracts deployment info yaml:\")\n",
    "            print(exc)\n",
    "            sys.exit(1)        \n",
    "\n",
    "def write_dynamic_confs(conf_yaml):\n",
    "    dep_info_yaml = load_contracts_deployment_info()\n",
    "    return replace_deployed_info_in_base_config(conf_yaml, dep_info_yaml)\n",
    "\n",
    "loaded_yaml = None\n",
    "custom_yaml = None\n",
    "\n",
    "with open(BASE_CONFIG_FILE, 'r') as base_yaml_file:\n",
    "    try:\n",
    "        loaded_yaml = yaml.safe_load(base_yaml_file)\n",
    "    except yaml.YAMLError as exc:\n",
    "        print(\"Error trying to load yaml base configuration:\")\n",
    "        print(exc)\n",
    "        sys.exit(1)\n",
    "        \n",
    "    custom_yaml = write_dynamic_confs(loaded_yaml)\n",
    "    \n",
    "    print(\"Dumping final configuration to file:\\n{}\".format(yaml.dump(custom_yaml, default_flow_style=False)))\n",
    "    \n",
    "    with open(OUTPUT_CONFIG_FILE, 'w') as custom_yaml_file:\n",
    "        yaml.dump(custom_yaml, custom_yaml_file, default_flow_style=False)\n",
    "\n"
   ]
  },
  {
   "cell_type": "code",
   "execution_count": null,
   "metadata": {},
   "outputs": [],
   "source": []
  }
 ],
 "metadata": {
  "kernelspec": {
   "display_name": "Python 3",
   "language": "python",
   "name": "python3"
  },
  "language_info": {
   "codemirror_mode": {
    "name": "ipython",
    "version": 3
   },
   "file_extension": ".py",
   "mimetype": "text/x-python",
   "name": "python",
   "nbconvert_exporter": "python",
   "pygments_lexer": "ipython3",
   "version": "3.6.7"
  }
 },
 "nbformat": 4,
 "nbformat_minor": 2
}
